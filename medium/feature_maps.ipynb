{
 "cells": [
  {
   "cell_type": "code",
   "execution_count": 16,
   "metadata": {},
   "outputs": [],
   "source": [
    "import numpy as np \n",
    "import matplotlib.pyplot as plt\n",
    "import cv2 \n",
    "from PIL import Image\n",
    "import warnings\n",
    "warnings.filterwarnings('ignore') "
   ]
  },
  {
   "cell_type": "code",
   "execution_count": null,
   "metadata": {},
   "outputs": [],
   "source": [
    "#input data\n",
    "x = np.linspace(-20, 10)\n",
    "\n",
    "#define activation function\n",
    "def tanH(x):return np.tanh(x) #tanH\n",
    "def sigmoid (x):return 1/(1+np.exp(-x))#sigmoid\n",
    "def ReLU(x): return np.maximum(x, 0)    #ReLU \n",
    "\n",
    "#plot activation function\n",
    "def plot_activation_fxn(x:np.array):\n",
    "  fig, axs = plt.subplots(1, 3)\n",
    "  axs[0].plot(x,tanH(x),'tab:Red')\n",
    "  axs[0].set_title('TanH')\n",
    "  axs[1].plot(x,sigmoid(x),'tab:Blue')\n",
    "  axs[1].set_title('Sigmoid')\n",
    "  axs[2].plot(x,ReLU(x),'tab:Green')\n",
    "  axs[2].set_title('ReLU')\n",
    "  for ax in axs:\n",
    "    ax.axis('on')\n",
    "  plt.tight_layout()\n",
    "  plt.show()\n",
    "  return\n",
    "\n",
    "plot_activation_fxn(x)"
   ]
  },
  {
   "cell_type": "code",
   "execution_count": 46,
   "metadata": {},
   "outputs": [],
   "source": [
    "# input Image\n",
    "image_path = r'Your Image path'\n",
    "\n",
    "def processImage(image): \n",
    "  image = cv2.imread(image) \n",
    "  image = cv2.cvtColor(src=image, code=cv2.COLOR_BGR2GRAY) \n",
    "  return image"
   ]
  },
  {
   "cell_type": "code",
   "execution_count": 43,
   "metadata": {},
   "outputs": [
    {
     "data": {
      "text/plain": [
       "(667, 1000, 3)"
      ]
     },
     "execution_count": 43,
     "metadata": {},
     "output_type": "execute_result"
    }
   ],
   "source": [
    "def convolve2D(image, kernel, padding=0, strides=1):\n",
    "    # Cross Correlation\n",
    "    kernel = np.flipud(np.fliplr(kernel))\n",
    "\n",
    "    # Gather Shapes of Kernel + Image + Padding\n",
    "    xKernShape = kernel.shape[0]\n",
    "    yKernShape = kernel.shape[1]\n",
    "    xImgShape = image.shape[0]\n",
    "    yImgShape = image.shape[1]\n",
    "\n",
    "    # Shape of Output Convolution\n",
    "    xOutput = int(((xImgShape - xKernShape + 2 * padding) / strides) + 1)\n",
    "    yOutput = int(((yImgShape - yKernShape + 2 * padding) / strides) + 1)\n",
    "    output = np.zeros((xOutput, yOutput))\n",
    "\n",
    "    # Apply Equal Padding to All Sides\n",
    "    if padding != 0:\n",
    "        imagePadded = np.zeros((image.shape[0] + padding*2, image.shape[1] + padding*2))\n",
    "        imagePadded[int(padding):int(-1 * padding), int(padding):int(-1 * padding)] = image\n",
    "        print(imagePadded)\n",
    "    else:\n",
    "        imagePadded = image\n",
    "\n",
    "    # Iterate through image\n",
    "    for y in range(image.shape[1]):\n",
    "        # Exit Convolution\n",
    "        if y > image.shape[1] - yKernShape:\n",
    "            break\n",
    "        # Only Convolve if y has gone down by the specified Strides\n",
    "        if y % strides == 0:\n",
    "            for x in range(image.shape[0]):\n",
    "                # Go to next row once kernel is out of bounds\n",
    "                if x > image.shape[0] - xKernShape:\n",
    "                    break\n",
    "                try:\n",
    "                    # Only Convolve if x has moved by the specified Strides\n",
    "                    if x % strides == 0:\n",
    "                        output[x, y] = (kernel * imagePadded[x: x + xKernShape, y: y + yKernShape]).sum()\n",
    "                except:\n",
    "                    break\n",
    "    return output"
   ]
  },
  {
   "cell_type": "code",
   "execution_count": 44,
   "metadata": {},
   "outputs": [],
   "source": [
    "  image = processImage(image_path)"
   ]
  },
  {
   "cell_type": "code",
   "execution_count": 45,
   "metadata": {},
   "outputs": [],
   "source": [
    "# Edge Detection Kernel\n",
    "    #emboss_kernel = np.array([[-2, -1, 0], [-1, 1, 1], [0, 1, 2]])\n",
    "    #sharpen_kernel = np.array([[0, -1, 0], [-1, 5, -1], [0, -1, 0]])\n",
    "    edge_kernel = np.array([[-1, -1, -1], [-1, 8, -1], [-1, -1, -1]])\n",
    "    \n",
    "    #Apply convolution and acticvation\n",
    "    output = convolve2D(image, edge_kernel, padding=2)\n",
    "    tan = tanH(output)\n",
    "    sig = sigmoid(output)\n",
    "    rel = ReLU(output)\n",
    "    "
   ]
  },
  {
   "cell_type": "code",
   "execution_count": 31,
   "metadata": {},
   "outputs": [],
   "source": [
    "# plot result\n",
    "    fig ,axes = plt.subplots(1,3)\n",
    "    plt.suptitle('Edge Detection')\n",
    "    '''axes[0].imshow(Image.open(image_path))\n",
    "    axes[0].set_title('Original Image')\n",
    "    axes[1].imshow(output,cmap='gray')\n",
    "    axes[1].set_title('Without activation')'''\n",
    "    axes[0].imshow(tan,cmap='gray')\n",
    "    axes[0].set_title('Tanh')\n",
    "    axes[1].imshow(sig,cmap='gray')\n",
    "    axes[1].set_title('Sigmoid')\n",
    "    axes[2].imshow(rel,cmap='gray')\n",
    "    axes[2].set_title('ReLU')\n",
    "    \n",
    "    for ax in axes:\n",
    "       ax.axis('off')\n",
    "    plt.show()"
   ]
  }
 ],
 "metadata": {
  "interpreter": {
   "hash": "846cd8fa025b95d14fa35f5e2319d0fd830ee16c5121aace3b7375dbbe774ea6"
  },
  "kernelspec": {
   "display_name": "Python 3.9.10 64-bit",
   "language": "python",
   "name": "python3"
  },
  "language_info": {
   "codemirror_mode": {
    "name": "ipython",
    "version": 3
   },
   "file_extension": ".py",
   "mimetype": "text/x-python",
   "name": "python",
   "nbconvert_exporter": "python",
   "pygments_lexer": "ipython3",
   "version": "3.9.10"
  },
  "orig_nbformat": 4
 },
 "nbformat": 4,
 "nbformat_minor": 2
}
